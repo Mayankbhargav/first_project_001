{
 "cells": [
  {
   "cell_type": "markdown",
   "id": "5edbf28b-460b-49c3-ac5d-935fd9849c5b",
   "metadata": {},
   "source": [
    "## TASK1 \n",
    "\n",
    "·      CRIM - per capita crime rate by town\r\n",
    "\r\n",
    "·      ZN - proportion of residential land zoned for lots over 25,000 sq.ft.\r\n",
    "\r\n",
    "·      INDUS - proportion of non-retail business acres per town.\r\n",
    "\r\n",
    "·      CHAS - Charles River dummy variable (1 if tract bounds river; 0 otherwise)\r\n",
    "\r\n",
    "·      NOX - nitric oxides concentration (parts per 10 million)\r\n",
    "\r\n",
    "·      RM - average number of rooms per dwelling\r\n",
    "\r\n",
    "·      AGE - proportion of owner-occupied units built prior to 1940\r\n",
    "\r\n",
    "·      DIS - weighted distances to five Boston employment centres\r\n",
    "\r\n",
    "·      RAD - index of accessibility to radial highways\r\n",
    "\r\n",
    "·      TAX - full-value property-tax rate per $10,000\r\n",
    "\r\n",
    "·      PTRATIO - pupil-teacher ratio by town\r\n",
    "\r\n",
    "·      LSTAT - % lower status of the population\r\n",
    "\r\n",
    "·      MEDV - Median value of owner-occupied homes in $1000's"
   ]
  },
  {
   "cell_type": "markdown",
   "id": "7001b91a-bdba-4e1e-b3a5-47bd1c097a45",
   "metadata": {
    "jp-MarkdownHeadingCollapsed": true
   },
   "source": [
    "## Task 2\n",
    "- Generate the following and explain your findings:\n",
    "- \r\n",
    "For the \"Median value of owner-occupied homes\" provide a boxplt- \r\n",
    "\r\n",
    "Provide a  bar plot for the Charles river varib- le\r\n",
    "\r\n",
    "Provide a boxplot for the MEDV variable vs the AGE variable. (Discretize the age variable into three groups of 35 years and yonger, between 35 and 70 years and 70 years and l- der)\r\n",
    "\r\n",
    "Provide a scatter plot to show the relationship between Nitric oxide concentrations and the proportion of non-retail business acres per town. What can you say about the relato- nship?\r\n",
    "\r\n",
    "Create a histogram for the pupil to teacher rativariable\r\n",
    "\r\n"
   ]
  },
  {
   "cell_type": "markdown",
   "id": "1c618b69-d44f-4f3b-a2fa-f7f8889f8423",
   "metadata": {},
   "source": [
    "## Task3\n",
    "\n",
    "For each of the following questions;\n",
    "\n",
    "Is there a significant difference in median value of houses bounded by the Charles river or not? (T-test for independent samples)\n",
    "\n",
    "Is there a difference in Median values of houses (MEDV) for each proportion of owner occupied units built prior to 1940 (AGE)? (ANOVA)\n",
    "\n",
    "Can we conclude that there is no relationship between Nitric oxide concentrations and proportion of non-retail business acres per town? (Pearson Correlation)\n",
    "\n",
    "What is the impact of an additional weighted distance  to the five Boston employment centres on the median value of owner occupied homes? (Regression analysis)\n",
    "\n",
    "Be sure to:\n",
    "\n",
    "State your hypothesis.\n",
    "\n",
    "Use α = 0.05\n",
    "\n",
    "Perform the test Statistics.\n",
    "\n",
    "State the conclusion from the test."
   ]
  },
  {
   "cell_type": "code",
   "execution_count": 1,
   "id": "2301e39d-8c95-49f1-a83a-e927b47fec54",
   "metadata": {},
   "outputs": [],
   "source": [
    "import pandas as pd\n",
    "import pandas as pd\n",
    "import seaborn as sns\n",
    "import matplotlib.pyplot as pyplot\n",
    "import scipy.stats as st\n",
    "import statsmodels.api as sm\n",
    "from statsmodels.formula.api import ols"
   ]
  },
  {
   "cell_type": "code",
   "execution_count": 2,
   "id": "9235d443-e247-4eb4-93be-a99aa7ac028d",
   "metadata": {},
   "outputs": [],
   "source": [
    "#from js import fetch\n",
    "df=pd.read_csv('boston_housing.csv')"
   ]
  },
  {
   "cell_type": "code",
   "execution_count": 3,
   "id": "46a861e5-5608-4dd0-a8d1-6134e6b23bc1",
   "metadata": {},
   "outputs": [
    {
     "data": {
      "text/html": [
       "<div>\n",
       "<style scoped>\n",
       "    .dataframe tbody tr th:only-of-type {\n",
       "        vertical-align: middle;\n",
       "    }\n",
       "\n",
       "    .dataframe tbody tr th {\n",
       "        vertical-align: top;\n",
       "    }\n",
       "\n",
       "    .dataframe thead th {\n",
       "        text-align: right;\n",
       "    }\n",
       "</style>\n",
       "<table border=\"1\" class=\"dataframe\">\n",
       "  <thead>\n",
       "    <tr style=\"text-align: right;\">\n",
       "      <th></th>\n",
       "      <th>Unnamed: 0</th>\n",
       "      <th>CRIM</th>\n",
       "      <th>ZN</th>\n",
       "      <th>INDUS</th>\n",
       "      <th>CHAS</th>\n",
       "      <th>NOX</th>\n",
       "      <th>RM</th>\n",
       "      <th>AGE</th>\n",
       "      <th>DIS</th>\n",
       "      <th>RAD</th>\n",
       "      <th>TAX</th>\n",
       "      <th>PTRATIO</th>\n",
       "      <th>LSTAT</th>\n",
       "      <th>MEDV</th>\n",
       "    </tr>\n",
       "  </thead>\n",
       "  <tbody>\n",
       "    <tr>\n",
       "      <th>0</th>\n",
       "      <td>0</td>\n",
       "      <td>0.00632</td>\n",
       "      <td>18.0</td>\n",
       "      <td>2.31</td>\n",
       "      <td>0.0</td>\n",
       "      <td>0.538</td>\n",
       "      <td>6.575</td>\n",
       "      <td>65.2</td>\n",
       "      <td>4.0900</td>\n",
       "      <td>1.0</td>\n",
       "      <td>296.0</td>\n",
       "      <td>15.3</td>\n",
       "      <td>4.98</td>\n",
       "      <td>24.0</td>\n",
       "    </tr>\n",
       "    <tr>\n",
       "      <th>1</th>\n",
       "      <td>1</td>\n",
       "      <td>0.02731</td>\n",
       "      <td>0.0</td>\n",
       "      <td>7.07</td>\n",
       "      <td>0.0</td>\n",
       "      <td>0.469</td>\n",
       "      <td>6.421</td>\n",
       "      <td>78.9</td>\n",
       "      <td>4.9671</td>\n",
       "      <td>2.0</td>\n",
       "      <td>242.0</td>\n",
       "      <td>17.8</td>\n",
       "      <td>9.14</td>\n",
       "      <td>21.6</td>\n",
       "    </tr>\n",
       "    <tr>\n",
       "      <th>2</th>\n",
       "      <td>2</td>\n",
       "      <td>0.02729</td>\n",
       "      <td>0.0</td>\n",
       "      <td>7.07</td>\n",
       "      <td>0.0</td>\n",
       "      <td>0.469</td>\n",
       "      <td>7.185</td>\n",
       "      <td>61.1</td>\n",
       "      <td>4.9671</td>\n",
       "      <td>2.0</td>\n",
       "      <td>242.0</td>\n",
       "      <td>17.8</td>\n",
       "      <td>4.03</td>\n",
       "      <td>34.7</td>\n",
       "    </tr>\n",
       "    <tr>\n",
       "      <th>3</th>\n",
       "      <td>3</td>\n",
       "      <td>0.03237</td>\n",
       "      <td>0.0</td>\n",
       "      <td>2.18</td>\n",
       "      <td>0.0</td>\n",
       "      <td>0.458</td>\n",
       "      <td>6.998</td>\n",
       "      <td>45.8</td>\n",
       "      <td>6.0622</td>\n",
       "      <td>3.0</td>\n",
       "      <td>222.0</td>\n",
       "      <td>18.7</td>\n",
       "      <td>2.94</td>\n",
       "      <td>33.4</td>\n",
       "    </tr>\n",
       "    <tr>\n",
       "      <th>4</th>\n",
       "      <td>4</td>\n",
       "      <td>0.06905</td>\n",
       "      <td>0.0</td>\n",
       "      <td>2.18</td>\n",
       "      <td>0.0</td>\n",
       "      <td>0.458</td>\n",
       "      <td>7.147</td>\n",
       "      <td>54.2</td>\n",
       "      <td>6.0622</td>\n",
       "      <td>3.0</td>\n",
       "      <td>222.0</td>\n",
       "      <td>18.7</td>\n",
       "      <td>5.33</td>\n",
       "      <td>36.2</td>\n",
       "    </tr>\n",
       "  </tbody>\n",
       "</table>\n",
       "</div>"
      ],
      "text/plain": [
       "   Unnamed: 0     CRIM    ZN  INDUS  CHAS    NOX     RM   AGE     DIS  RAD  \\\n",
       "0           0  0.00632  18.0   2.31   0.0  0.538  6.575  65.2  4.0900  1.0   \n",
       "1           1  0.02731   0.0   7.07   0.0  0.469  6.421  78.9  4.9671  2.0   \n",
       "2           2  0.02729   0.0   7.07   0.0  0.469  7.185  61.1  4.9671  2.0   \n",
       "3           3  0.03237   0.0   2.18   0.0  0.458  6.998  45.8  6.0622  3.0   \n",
       "4           4  0.06905   0.0   2.18   0.0  0.458  7.147  54.2  6.0622  3.0   \n",
       "\n",
       "     TAX  PTRATIO  LSTAT  MEDV  \n",
       "0  296.0     15.3   4.98  24.0  \n",
       "1  242.0     17.8   9.14  21.6  \n",
       "2  242.0     17.8   4.03  34.7  \n",
       "3  222.0     18.7   2.94  33.4  \n",
       "4  222.0     18.7   5.33  36.2  "
      ]
     },
     "execution_count": 3,
     "metadata": {},
     "output_type": "execute_result"
    }
   ],
   "source": [
    "df.head()"
   ]
  },
  {
   "cell_type": "code",
   "execution_count": 4,
   "id": "56bdb3d4-f06c-4cac-b72f-36c223eb5ed8",
   "metadata": {},
   "outputs": [
    {
     "data": {
      "image/png": "[encoded data removed]",
      "text/plain": [
       "<Figure size 640x480 with 1 Axes>"
      ]
     },
     "metadata": {},
     "output_type": "display_data"
    }
   ],
   "source": [
    "#For the \"Median value of owner-occupied homes\" provide a boxplt-\n",
    "box_plot1=sns.boxplot(data=df,x='MEDV')"
   ]
  },
  {
   "cell_type": "code",
   "execution_count": 5,
   "id": "8fb3d863-7e8c-4adf-8b0f-56f702ea8350",
   "metadata": {},
   "outputs": [
    {
     "data": {
      "image/png": "[encoded data removed]",
      "text/plain": [
       "<Figure size 640x480 with 1 Axes>"
      ]
     },
     "metadata": {},
     "output_type": "display_data"
    }
   ],
   "source": [
    "#Provide a bar plot for the Charles river varible\n",
    "barplot=sns.barplot(data=df,x='CHAS')"
   ]
  },
  {
   "cell_type": "raw",
   "id": "b8db5d4b-beef-4d92-bb2e-30fd04118c8d",
   "metadata": {},
   "source": [
    "bins: Specifies the intervals for discretizing the AGE variable. Here, the bins are:\n",
    "0 to 35\n",
    "35 to 70\n",
    "70 to the maximum value in the AGE column\n",
    "labels: Names for the resulting categories.\n",
    "pd.cut: A pandas function used to segment and sort data values into bins. The parameters are:\n",
    "df['AGE']: The column to be discretized.\n",
    "bins: The intervals to use for discretization.\n",
    "labels: Labels to assign to each bin.\n",
    "right=False: Indicates whether bins include the rightmost edge. Here, bins include the left edge but exclude the right edge.\n",
    "The result is a new column AGE_group in the DataFrame df which contains the age group category for each row."
   ]
  },
  {
   "cell_type": "code",
   "execution_count": 6,
   "id": "ecef549f-9b73-4db2-8a26-677e59cfe455",
   "metadata": {},
   "outputs": [
    {
     "name": "stderr",
     "output_type": "stream",
     "text": [
      "C:\\Users\\Mayank\\anaconda3034\\Lib\\site-packages\\seaborn\\categorical.py:641: FutureWarning: The default of observed=False is deprecated and will be changed to True in a future version of pandas. Pass observed=False to retain current behavior or observed=True to adopt the future default and silence this warning.\n",
      "  grouped_vals = vals.groupby(grouper)\n"
     ]
    },
    {
     "data": {
      "image/png": "[encoded data removed]",
      "text/plain": [
       "<Figure size 1000x600 with 1 Axes>"
      ]
     },
     "metadata": {},
     "output_type": "display_data"
    }
   ],
   "source": [
    "#Provide a boxplot for the MEDV variable vs the AGE variable.\n",
    "#(Discretize the age variable into three groups of 35 years and yonger, between 35 and 70 years and 70 years and l- der)\n",
    "import pandas as pd\n",
    "import seaborn as sns\n",
    "import matplotlib.pyplot as plt\n",
    "# Assuming df is your DataFrame and it contains the columns 'MEDV' and 'AGE'\n",
    "# If you don't have the DataFrame, you need to load your data into df first.\n",
    "# Discretize the AGE variable into three groups\n",
    "bins = [0, 35, 70, df['AGE'].max()]\n",
    "labels = ['35 years and younger', 'Between 35 and 70 years', '70 years and older']\n",
    "df['AGE_group'] = pd.cut(df['AGE'], bins=bins, labels=labels, right=False)\n",
    "plt.figure(figsize=(10, 6))\n",
    "sns.boxplot(x='AGE_group', y='MEDV', data=df)\n",
    "plt.title('Boxplot of MEDV by Age ')\n",
    "plt.xlabel('Age ')\n",
    "plt.ylabel('MEDV')\n",
    "plt.show()\n"
   ]
  },
  {
   "cell_type": "code",
   "execution_count": 7,
   "id": "15bfc0d1-be08-4e9b-836c-505fc71f6f9a",
   "metadata": {},
   "outputs": [
    {
     "data": {
      "text/plain": [
       "<Axes: xlabel='INDUS', ylabel='NOX'>"
      ]
     },
     "execution_count": 7,
     "metadata": {},
     "output_type": "execute_result"
    },
    {
     "data": {
      "image/png": "[encoded data removed]",
      "text/plain": [
       "<Figure size 640x480 with 1 Axes>"
      ]
     },
     "metadata": {},
     "output_type": "display_data"
    }
   ],
   "source": [
    "#Provide a scatter plot to show the relationship between\n",
    "#Nitric oxide concentrations and the proportion of non-retail business acres per town. What can you say about the relationship\n",
    "sns.scatterplot(x='INDUS',y='NOX', data=df)"
   ]
  },
  {
   "cell_type": "code",
   "execution_count": 8,
   "id": "30a685ff-de02-493f-bb9c-305f67f8e00f",
   "metadata": {},
   "outputs": [
    {
     "data": {
      "image/png": "[encoded data removed]",
      "text/plain": [
       "<Figure size 640x480 with 1 Axes>"
      ]
     },
     "metadata": {},
     "output_type": "display_data"
    }
   ],
   "source": [
    "#Is there a significant difference in median value of houses bounded by the Charles river or not? (T-test for independent samples)\n",
    "# we reject the null hypothesis \n",
    "#houses_bounded_by_river = df[df['CHAS'] == 1]\n",
    "#houses_not_bounded_by_river = df[df['CHAS'] == 0]\n",
    "#t_stat, p_value = stats.ttest_ind(houses_bounded_by_river, houses_not_bounded_by_river, equal_var=False)\n",
    "#print(t_stat,p_value)\n",
    "ax=sns.countplot(data=df,x=df['CHAS'])"
   ]
  },
  {
   "cell_type": "code",
   "execution_count": 9,
   "id": "0473ff0e-8763-4306-a51e-84eb9da044d0",
   "metadata": {},
   "outputs": [
    {
     "data": {
      "application/javascript": [
       "\n",
       "        if (window._pyforest_update_imports_cell) { window._pyforest_update_imports_cell('from scipy import stats'); }\n",
       "    "
      ],
      "text/plain": [
       "<IPython.core.display.Javascript object>"
      ]
     },
     "metadata": {},
     "output_type": "display_data"
    },
    {
     "name": "stdout",
     "output_type": "stream",
     "text": [
      "T-statistic: 3.113291312794837\n",
      "P-value: 0.003567170098137517\n",
      "There is a significant difference in median values of houses bounded by the Charles River.\n"
     ]
    }
   ],
   "source": [
    "# Separate the data into two groups based on the CHAS variable\n",
    "houses_bounded_by_river = df[df['CHAS'] == 1]['MEDV']\n",
    "houses_not_bounded_by_river = df[df['CHAS'] == 0]['MEDV']\n",
    "# Perform the t-test\n",
    "t_stat, p_value = stats.ttest_ind(houses_bounded_by_river, houses_not_bounded_by_river, equal_var=False)\n",
    "# Print the results\n",
    "print(f\"T-statistic: {t_stat}\")\n",
    "print(f\"P-value: {p_value}\")\n",
    "if p_value < 0.05:\n",
    "    print(\"There is a significant difference in median values of houses bounded by the Charles River.\")\n",
    "else:\n",
    "    print(\"There is no significant difference in median values of houses bounded by the Charles River.\")\n"
   ]
  },
  {
   "cell_type": "code",
   "execution_count": 11,
   "id": "67b2c0b2-4d14-4ca3-abb0-47546a3721da",
   "metadata": {},
   "outputs": [
    {
     "name": "stdout",
     "output_type": "stream",
     "text": [
      "25.4866772097812 2.3178855286954125e-15\n"
     ]
    },
    {
     "name": "stderr",
     "output_type": "stream",
     "text": [
      "C:\\Users\\Mayank\\AppData\\Local\\Temp\\ipykernel_6244\\3119460404.py:6: DeprecationWarning: Please use `f_oneway` from the `scipy.stats` namespace, the `scipy.stats.stats` namespace is deprecated.\n",
      "  f_statistic,p_value=st.stats.f_oneway(oneby4,oneby2,threeby4,one)\n"
     ]
    }
   ],
   "source": [
    "#Is there a difference in Median values of houses (MEDV) for each proportion of owner occupied units built prior to 1940 (AGE)? (ANOVA)\n",
    "oneby4=df[df['AGE']<25.0]['MEDV']\n",
    "oneby2=df[(df['AGE']<50.0) & (df['AGE']>=25.0)]['MEDV']\n",
    "threeby4=df[(df['AGE']<75.0) & (df['AGE']>=50.0)]['MEDV']\n",
    "one=df[(df['AGE']<=100.0) & (df['AGE']>=75.0)]['MEDV']\n",
    "f_statistic,p_value=st.stats.f_oneway(oneby4,oneby2,threeby4,one)\n",
    "print(f_statistic,p_value)\n",
    "#YES THERE IS DIFFERENCE BETWEEN MEDV "
   ]
  },
  {
   "cell_type": "code",
   "execution_count": 12,
   "id": "7f3f1833-7cb4-4034-af88-866abbce3ac1",
   "metadata": {},
   "outputs": [
    {
     "data": {
      "text/html": [
       "<div>\n",
       "<style scoped>\n",
       "    .dataframe tbody tr th:only-of-type {\n",
       "        vertical-align: middle;\n",
       "    }\n",
       "\n",
       "    .dataframe tbody tr th {\n",
       "        vertical-align: top;\n",
       "    }\n",
       "\n",
       "    .dataframe thead th {\n",
       "        text-align: right;\n",
       "    }\n",
       "</style>\n",
       "<table border=\"1\" class=\"dataframe\">\n",
       "  <thead>\n",
       "    <tr style=\"text-align: right;\">\n",
       "      <th></th>\n",
       "      <th>Unnamed: 0</th>\n",
       "      <th>CRIM</th>\n",
       "      <th>ZN</th>\n",
       "      <th>INDUS</th>\n",
       "      <th>CHAS</th>\n",
       "      <th>NOX</th>\n",
       "      <th>RM</th>\n",
       "      <th>AGE</th>\n",
       "      <th>DIS</th>\n",
       "      <th>RAD</th>\n",
       "      <th>TAX</th>\n",
       "      <th>PTRATIO</th>\n",
       "      <th>LSTAT</th>\n",
       "      <th>MEDV</th>\n",
       "      <th>AGE_group</th>\n",
       "    </tr>\n",
       "  </thead>\n",
       "  <tbody>\n",
       "    <tr>\n",
       "      <th>7</th>\n",
       "      <td>7</td>\n",
       "      <td>0.14455</td>\n",
       "      <td>12.5</td>\n",
       "      <td>7.87</td>\n",
       "      <td>0.0</td>\n",
       "      <td>0.524</td>\n",
       "      <td>6.172</td>\n",
       "      <td>96.1</td>\n",
       "      <td>5.9505</td>\n",
       "      <td>5.0</td>\n",
       "      <td>311.0</td>\n",
       "      <td>15.2</td>\n",
       "      <td>19.15</td>\n",
       "      <td>27.1</td>\n",
       "      <td>70 years and older</td>\n",
       "    </tr>\n",
       "    <tr>\n",
       "      <th>8</th>\n",
       "      <td>8</td>\n",
       "      <td>0.21124</td>\n",
       "      <td>12.5</td>\n",
       "      <td>7.87</td>\n",
       "      <td>0.0</td>\n",
       "      <td>0.524</td>\n",
       "      <td>5.631</td>\n",
       "      <td>100.0</td>\n",
       "      <td>6.0821</td>\n",
       "      <td>5.0</td>\n",
       "      <td>311.0</td>\n",
       "      <td>15.2</td>\n",
       "      <td>29.93</td>\n",
       "      <td>16.5</td>\n",
       "      <td>NaN</td>\n",
       "    </tr>\n",
       "    <tr>\n",
       "      <th>10</th>\n",
       "      <td>10</td>\n",
       "      <td>0.22489</td>\n",
       "      <td>12.5</td>\n",
       "      <td>7.87</td>\n",
       "      <td>0.0</td>\n",
       "      <td>0.524</td>\n",
       "      <td>6.377</td>\n",
       "      <td>94.3</td>\n",
       "      <td>6.3467</td>\n",
       "      <td>5.0</td>\n",
       "      <td>311.0</td>\n",
       "      <td>15.2</td>\n",
       "      <td>20.45</td>\n",
       "      <td>15.0</td>\n",
       "      <td>70 years and older</td>\n",
       "    </tr>\n",
       "    <tr>\n",
       "      <th>20</th>\n",
       "      <td>20</td>\n",
       "      <td>1.25179</td>\n",
       "      <td>0.0</td>\n",
       "      <td>8.14</td>\n",
       "      <td>0.0</td>\n",
       "      <td>0.538</td>\n",
       "      <td>5.570</td>\n",
       "      <td>98.1</td>\n",
       "      <td>3.7979</td>\n",
       "      <td>4.0</td>\n",
       "      <td>307.0</td>\n",
       "      <td>21.0</td>\n",
       "      <td>21.02</td>\n",
       "      <td>13.6</td>\n",
       "      <td>70 years and older</td>\n",
       "    </tr>\n",
       "    <tr>\n",
       "      <th>22</th>\n",
       "      <td>22</td>\n",
       "      <td>1.23247</td>\n",
       "      <td>0.0</td>\n",
       "      <td>8.14</td>\n",
       "      <td>0.0</td>\n",
       "      <td>0.538</td>\n",
       "      <td>6.142</td>\n",
       "      <td>91.7</td>\n",
       "      <td>3.9769</td>\n",
       "      <td>4.0</td>\n",
       "      <td>307.0</td>\n",
       "      <td>21.0</td>\n",
       "      <td>18.72</td>\n",
       "      <td>15.2</td>\n",
       "      <td>70 years and older</td>\n",
       "    </tr>\n",
       "    <tr>\n",
       "      <th>...</th>\n",
       "      <td>...</td>\n",
       "      <td>...</td>\n",
       "      <td>...</td>\n",
       "      <td>...</td>\n",
       "      <td>...</td>\n",
       "      <td>...</td>\n",
       "      <td>...</td>\n",
       "      <td>...</td>\n",
       "      <td>...</td>\n",
       "      <td>...</td>\n",
       "      <td>...</td>\n",
       "      <td>...</td>\n",
       "      <td>...</td>\n",
       "      <td>...</td>\n",
       "      <td>...</td>\n",
       "    </tr>\n",
       "    <tr>\n",
       "      <th>488</th>\n",
       "      <td>488</td>\n",
       "      <td>0.15086</td>\n",
       "      <td>0.0</td>\n",
       "      <td>27.74</td>\n",
       "      <td>0.0</td>\n",
       "      <td>0.609</td>\n",
       "      <td>5.454</td>\n",
       "      <td>92.7</td>\n",
       "      <td>1.8209</td>\n",
       "      <td>4.0</td>\n",
       "      <td>711.0</td>\n",
       "      <td>20.1</td>\n",
       "      <td>18.06</td>\n",
       "      <td>15.2</td>\n",
       "      <td>70 years and older</td>\n",
       "    </tr>\n",
       "    <tr>\n",
       "      <th>489</th>\n",
       "      <td>489</td>\n",
       "      <td>0.18337</td>\n",
       "      <td>0.0</td>\n",
       "      <td>27.74</td>\n",
       "      <td>0.0</td>\n",
       "      <td>0.609</td>\n",
       "      <td>5.414</td>\n",
       "      <td>98.3</td>\n",
       "      <td>1.7554</td>\n",
       "      <td>4.0</td>\n",
       "      <td>711.0</td>\n",
       "      <td>20.1</td>\n",
       "      <td>23.97</td>\n",
       "      <td>7.0</td>\n",
       "      <td>70 years and older</td>\n",
       "    </tr>\n",
       "    <tr>\n",
       "      <th>490</th>\n",
       "      <td>490</td>\n",
       "      <td>0.20746</td>\n",
       "      <td>0.0</td>\n",
       "      <td>27.74</td>\n",
       "      <td>0.0</td>\n",
       "      <td>0.609</td>\n",
       "      <td>5.093</td>\n",
       "      <td>98.0</td>\n",
       "      <td>1.8226</td>\n",
       "      <td>4.0</td>\n",
       "      <td>711.0</td>\n",
       "      <td>20.1</td>\n",
       "      <td>29.68</td>\n",
       "      <td>8.1</td>\n",
       "      <td>70 years and older</td>\n",
       "    </tr>\n",
       "    <tr>\n",
       "      <th>491</th>\n",
       "      <td>491</td>\n",
       "      <td>0.10574</td>\n",
       "      <td>0.0</td>\n",
       "      <td>27.74</td>\n",
       "      <td>0.0</td>\n",
       "      <td>0.609</td>\n",
       "      <td>5.983</td>\n",
       "      <td>98.8</td>\n",
       "      <td>1.8681</td>\n",
       "      <td>4.0</td>\n",
       "      <td>711.0</td>\n",
       "      <td>20.1</td>\n",
       "      <td>18.07</td>\n",
       "      <td>13.6</td>\n",
       "      <td>70 years and older</td>\n",
       "    </tr>\n",
       "    <tr>\n",
       "      <th>503</th>\n",
       "      <td>503</td>\n",
       "      <td>0.06076</td>\n",
       "      <td>0.0</td>\n",
       "      <td>11.93</td>\n",
       "      <td>0.0</td>\n",
       "      <td>0.573</td>\n",
       "      <td>6.976</td>\n",
       "      <td>91.0</td>\n",
       "      <td>2.1675</td>\n",
       "      <td>1.0</td>\n",
       "      <td>273.0</td>\n",
       "      <td>21.0</td>\n",
       "      <td>5.64</td>\n",
       "      <td>23.9</td>\n",
       "      <td>70 years and older</td>\n",
       "    </tr>\n",
       "  </tbody>\n",
       "</table>\n",
       "<p>168 rows × 15 columns</p>\n",
       "</div>"
      ],
      "text/plain": [
       "     Unnamed: 0     CRIM    ZN  INDUS  CHAS    NOX     RM    AGE     DIS  RAD  \\\n",
       "7             7  0.14455  12.5   7.87   0.0  0.524  6.172   96.1  5.9505  5.0   \n",
       "8             8  0.21124  12.5   7.87   0.0  0.524  5.631  100.0  6.0821  5.0   \n",
       "10           10  0.22489  12.5   7.87   0.0  0.524  6.377   94.3  6.3467  5.0   \n",
       "20           20  1.25179   0.0   8.14   0.0  0.538  5.570   98.1  3.7979  4.0   \n",
       "22           22  1.23247   0.0   8.14   0.0  0.538  6.142   91.7  3.9769  4.0   \n",
       "..          ...      ...   ...    ...   ...    ...    ...    ...     ...  ...   \n",
       "488         488  0.15086   0.0  27.74   0.0  0.609  5.454   92.7  1.8209  4.0   \n",
       "489         489  0.18337   0.0  27.74   0.0  0.609  5.414   98.3  1.7554  4.0   \n",
       "490         490  0.20746   0.0  27.74   0.0  0.609  5.093   98.0  1.8226  4.0   \n",
       "491         491  0.10574   0.0  27.74   0.0  0.609  5.983   98.8  1.8681  4.0   \n",
       "503         503  0.06076   0.0  11.93   0.0  0.573  6.976   91.0  2.1675  1.0   \n",
       "\n",
       "       TAX  PTRATIO  LSTAT  MEDV           AGE_group  \n",
       "7    311.0     15.2  19.15  27.1  70 years and older  \n",
       "8    311.0     15.2  29.93  16.5                 NaN  \n",
       "10   311.0     15.2  20.45  15.0  70 years and older  \n",
       "20   307.0     21.0  21.02  13.6  70 years and older  \n",
       "22   307.0     21.0  18.72  15.2  70 years and older  \n",
       "..     ...      ...    ...   ...                 ...  \n",
       "488  711.0     20.1  18.06  15.2  70 years and older  \n",
       "489  711.0     20.1  23.97   7.0  70 years and older  \n",
       "490  711.0     20.1  29.68   8.1  70 years and older  \n",
       "491  711.0     20.1  18.07  13.6  70 years and older  \n",
       "503  273.0     21.0   5.64  23.9  70 years and older  \n",
       "\n",
       "[168 rows x 15 columns]"
      ]
     },
     "execution_count": 12,
     "metadata": {},
     "output_type": "execute_result"
    }
   ],
   "source": [
    "df[df['AGE']>90.0]\n"
   ]
  },
  {
   "cell_type": "code",
   "execution_count": 13,
   "id": "c65e7b1d-015a-4552-be48-d9a5eb720a38",
   "metadata": {},
   "outputs": [],
   "source": [
    "#Can we conclude that there is \n",
    "#no relationship between Nitric oxide concentrations(NOX) and proportion of non-retail business acres per town(INDUS)? (Pearson Correlation)"
   ]
  },
  {
   "cell_type": "code",
   "execution_count": 15,
   "id": "ee5389e1-4b75-4fb1-b433-38bbd341c07f",
   "metadata": {},
   "outputs": [
    {
     "data": {
      "image/png": "[encoded data removed]",
      "text/plain": [
       "<Figure size 640x480 with 1 Axes>"
      ]
     },
     "metadata": {},
     "output_type": "display_data"
    }
   ],
   "source": [
    "ax = sns.scatterplot(x=\"NOX\", y=\"INDUS\", data=df)"
   ]
  },
  {
   "cell_type": "code",
   "execution_count": 16,
   "id": "63475429-2687-4911-874a-4d41b3bb4da1",
   "metadata": {},
   "outputs": [
    {
     "data": {
      "text/plain": [
       "PearsonRResult(statistic=0.763651446920915, pvalue=7.913361061241167e-98)"
      ]
     },
     "execution_count": 16,
     "metadata": {},
     "output_type": "execute_result"
    }
   ],
   "source": [
    "st.pearsonr(df['NOX'], df['INDUS'])\n",
    "#IF P<APLHA REJECT THE NULL HYPOTHESIS APLHA=0.05\n",
    "#IF P>=ALPHA FAIL TO REJECT THE NULL HYPOTHESIS\n",
    "#since p<alpha we reject the null hypothesis and conclude that their is correlation btw NOX & INDUS"
   ]
  },
  {
   "cell_type": "code",
   "execution_count": 18,
   "id": "b773998d-b087-46a1-a2b3-66deedc37150",
   "metadata": {},
   "outputs": [
    {
     "name": "stdout",
     "output_type": "stream",
     "text": [
      "                            OLS Regression Results                            \n",
      "==============================================================================\n",
      "Dep. Variable:                   MEDV   R-squared:                       0.062\n",
      "Model:                            OLS   Adj. R-squared:                  0.061\n",
      "Method:                 Least Squares   F-statistic:                     33.58\n",
      "Date:                Tue, 09 Jul 2024   Prob (F-statistic):           1.21e-08\n",
      "Time:                        23:23:39   Log-Likelihood:                -1823.9\n",
      "No. Observations:                 506   AIC:                             3652.\n",
      "Df Residuals:                     504   BIC:                             3660.\n",
      "Df Model:                           1                                         \n",
      "Covariance Type:            nonrobust                                         \n",
      "==============================================================================\n",
      "                 coef    std err          t      P>|t|      [0.025      0.975]\n",
      "------------------------------------------------------------------------------\n",
      "const         18.3901      0.817     22.499      0.000      16.784      19.996\n",
      "DIS            1.0916      0.188      5.795      0.000       0.722       1.462\n",
      "==============================================================================\n",
      "Omnibus:                      139.779   Durbin-Watson:                   0.570\n",
      "Prob(Omnibus):                  0.000   Jarque-Bera (JB):              305.104\n",
      "Skew:                           1.466   Prob(JB):                     5.59e-67\n",
      "Kurtosis:                       5.424   Cond. No.                         9.32\n",
      "==============================================================================\n",
      "\n",
      "Notes:\n",
      "[1] Standard Errors assume that the covariance matrix of the errors is correctly specified.\n"
     ]
    }
   ],
   "source": [
    "#What is the impact of an additional \n",
    "#weighted distance to the five Boston employment centres on the median value of owner occupied homes? (Regression analysis)\n",
    "import pandas as pd\n",
    "import statsmodels.api as sm\n",
    "X = df['DIS']\n",
    "y = df['MEDV']\n",
    "X = sm.add_constant(X)\n",
    "# Fit the regression model\n",
    "model = sm.OLS(y, X).fit()\n",
    "print(model.summary())\n",
    "\n"
   ]
  },
  {
   "cell_type": "code",
   "execution_count": 19,
   "id": "94e0e417-33a4-4e3d-a37c-09aafcc6cbe5",
   "metadata": {},
   "outputs": [],
   "source": [
    "#This coefficient means that for every one-unit increase in the weighted distance to the employment centres, \n",
    "#the median value of owner-occupied homes increases by approximately 1.0916 units. \n",
    "#This positive coefficient suggests that homes further away from employment centres tend to have higher median values."
   ]
  },
  {
   "cell_type": "code",
   "execution_count": null,
   "id": "2143482d-7f35-4ff0-b8d4-70dcec7ecdb3",
   "metadata": {},
   "outputs": [],
   "source": []
  }
 ],
 "metadata": {
  "kernelspec": {
   "display_name": "Python 3 (ipykernel)",
   "language": "python",
   "name": "python3"
  },
  "language_info": {
   "codemirror_mode": {
    "name": "ipython",
    "version": 3
   },
   "file_extension": ".py",
   "mimetype": "text/x-python",
   "name": "python",
   "nbconvert_exporter": "python",
   "pygments_lexer": "ipython3",
   "version": "3.11.7"
  }
 },
 "nbformat": 4,
 "nbformat_minor": 5
}
